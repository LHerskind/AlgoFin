{
 "cells": [
  {
   "cell_type": "code",
   "execution_count": 1,
   "metadata": {
    "collapsed": true
   },
   "outputs": [],
   "source": [
    "import DataBroker\n",
    "import torch\n",
    "from torch import nn\n",
    "from torch.utils.data import DataLoader\n",
    "from torch.autograd import Variable"
   ]
  },
  {
   "cell_type": "code",
   "execution_count": 74,
   "metadata": {
    "collapsed": false
   },
   "outputs": [
    {
     "name": "stdout",
     "output_type": "stream",
     "text": [
      "dict_keys(['PNDORA.CO', 'VWS.CO', 'DANSKE.CO', 'CHR.CO', 'GOOGL', 'NFLX', 'TSLA'])\n"
     ]
    }
   ],
   "source": [
    "broker = DataBroker.DataBroker()\n",
    "broker_data = broker.get_all_company_data('CHR.CO')\n",
    "broker_data_np = broker_data.values[:, :4]\n",
    "\n",
    "device = torch.device('cuda')\n",
    "epochs = 1000\n",
    "batchsize = 128\n",
    "learning_rate = 1e-4\n",
    "\n",
    "dataset = torch.from_numpy(broker_data_np)\n",
    "dataloader = DataLoader(dataset, batch_size=batchsize, shuffle=True)"
   ]
  },
  {
   "cell_type": "code",
   "execution_count": 75,
   "metadata": {
    "collapsed": false
   },
   "outputs": [
    {
     "data": {
      "text/html": [
       "<div>\n",
       "<style scoped>\n",
       "    .dataframe tbody tr th:only-of-type {\n",
       "        vertical-align: middle;\n",
       "    }\n",
       "\n",
       "    .dataframe tbody tr th {\n",
       "        vertical-align: top;\n",
       "    }\n",
       "\n",
       "    .dataframe thead th {\n",
       "        text-align: right;\n",
       "    }\n",
       "</style>\n",
       "<table border=\"1\" class=\"dataframe\">\n",
       "  <thead>\n",
       "    <tr style=\"text-align: right;\">\n",
       "      <th></th>\n",
       "      <th>Open</th>\n",
       "      <th>High</th>\n",
       "      <th>Low</th>\n",
       "      <th>Close</th>\n",
       "      <th>Adj Close</th>\n",
       "      <th>Volume</th>\n",
       "    </tr>\n",
       "    <tr>\n",
       "      <th>Date</th>\n",
       "      <th></th>\n",
       "      <th></th>\n",
       "      <th></th>\n",
       "      <th></th>\n",
       "      <th></th>\n",
       "      <th></th>\n",
       "    </tr>\n",
       "  </thead>\n",
       "  <tbody>\n",
       "    <tr>\n",
       "      <th>2010-06-03</th>\n",
       "      <td>94.000000</td>\n",
       "      <td>96.800003</td>\n",
       "      <td>93.599998</td>\n",
       "      <td>95.000000</td>\n",
       "      <td>83.481415</td>\n",
       "      <td>6624457</td>\n",
       "    </tr>\n",
       "    <tr>\n",
       "      <th>2010-06-04</th>\n",
       "      <td>96.000000</td>\n",
       "      <td>98.250000</td>\n",
       "      <td>95.500000</td>\n",
       "      <td>96.750000</td>\n",
       "      <td>85.019241</td>\n",
       "      <td>2321487</td>\n",
       "    </tr>\n",
       "    <tr>\n",
       "      <th>2010-06-07</th>\n",
       "      <td>95.500000</td>\n",
       "      <td>100.300003</td>\n",
       "      <td>94.500000</td>\n",
       "      <td>99.900002</td>\n",
       "      <td>87.787292</td>\n",
       "      <td>1117218</td>\n",
       "    </tr>\n",
       "    <tr>\n",
       "      <th>2010-06-08</th>\n",
       "      <td>101.000000</td>\n",
       "      <td>102.500000</td>\n",
       "      <td>98.199997</td>\n",
       "      <td>98.750000</td>\n",
       "      <td>86.776741</td>\n",
       "      <td>696090</td>\n",
       "    </tr>\n",
       "    <tr>\n",
       "      <th>2010-06-09</th>\n",
       "      <td>99.199997</td>\n",
       "      <td>99.199997</td>\n",
       "      <td>96.500000</td>\n",
       "      <td>97.800003</td>\n",
       "      <td>85.941917</td>\n",
       "      <td>574212</td>\n",
       "    </tr>\n",
       "  </tbody>\n",
       "</table>\n",
       "</div>"
      ],
      "text/plain": [
       "                  Open        High        Low      Close  Adj Close   Volume\n",
       "Date                                                                        \n",
       "2010-06-03   94.000000   96.800003  93.599998  95.000000  83.481415  6624457\n",
       "2010-06-04   96.000000   98.250000  95.500000  96.750000  85.019241  2321487\n",
       "2010-06-07   95.500000  100.300003  94.500000  99.900002  87.787292  1117218\n",
       "2010-06-08  101.000000  102.500000  98.199997  98.750000  86.776741   696090\n",
       "2010-06-09   99.199997   99.199997  96.500000  97.800003  85.941917   574212"
      ]
     },
     "execution_count": 75,
     "metadata": {},
     "output_type": "execute_result"
    }
   ],
   "source": [
    "broker_data.head()"
   ]
  },
  {
   "cell_type": "code",
   "execution_count": 77,
   "metadata": {
    "collapsed": true
   },
   "outputs": [],
   "source": [
    "class autoencoder(nn.Module):\n",
    "    def __init__(self):\n",
    "        super(autoencoder, self).__init__()\n",
    "        self.encoder = nn.Sequential(\n",
    "            nn.Linear(4, 1),\n",
    "        )\n",
    "        self.decoder = nn.Sequential(\n",
    "            nn.Linear(1, 4),\n",
    "        )\n",
    "    \n",
    "    def forward(self, x):\n",
    "        x = self.encoder(x)\n",
    "        x = self.decoder(x)\n",
    "        return x"
   ]
  },
  {
   "cell_type": "code",
   "execution_count": 78,
   "metadata": {
    "collapsed": false
   },
   "outputs": [],
   "source": [
    "model = autoencoder().to(device)\n",
    "criterion = nn.MSELoss()\n",
    "optimizer = torch.optim.Adam(model.parameters(), lr=learning_rate, weight_decay=1e-6)"
   ]
  },
  {
   "cell_type": "code",
   "execution_count": 79,
   "metadata": {
    "collapsed": false
   },
   "outputs": [
    {
     "name": "stdout",
     "output_type": "stream",
     "text": [
      "epoch [50/1000], loss:24849.7520\n",
      "epoch [100/1000], loss:23781.9863\n",
      "epoch [150/1000], loss:13480.3252\n",
      "epoch [200/1000], loss:9417.0781\n",
      "epoch [250/1000], loss:3358.9873\n",
      "epoch [300/1000], loss:228.5078\n",
      "epoch [350/1000], loss:2856.3789\n",
      "epoch [400/1000], loss:5867.1875\n",
      "epoch [450/1000], loss:5722.8423\n",
      "epoch [500/1000], loss:3002.6672\n",
      "epoch [550/1000], loss:1749.2642\n",
      "epoch [600/1000], loss:1409.5004\n",
      "epoch [650/1000], loss:1059.2450\n",
      "epoch [700/1000], loss:1773.2827\n",
      "epoch [750/1000], loss:657.2342\n",
      "epoch [800/1000], loss:635.6194\n",
      "epoch [850/1000], loss:795.6905\n",
      "epoch [900/1000], loss:1041.7300\n",
      "epoch [950/1000], loss:410.9237\n",
      "epoch [1000/1000], loss:487.5984\n"
     ]
    }
   ],
   "source": [
    "for epoch in range(epochs):\n",
    "    for data in dataloader:\n",
    "        model_in = Variable(data).to(device).float()\n",
    "        #### Forward\n",
    "        output = model(model_in)\n",
    "        loss = criterion(output, model_in)\n",
    "        #### Backward\n",
    "        loss.backward()\n",
    "        optimizer.step()\n",
    "    if (epoch + 1) % 50 == 0:\n",
    "        print('epoch [{}/{}], loss:{:.4f}'.format(epoch + 1, epochs, loss.item()))"
   ]
  },
  {
   "cell_type": "code",
   "execution_count": 80,
   "metadata": {
    "collapsed": false
   },
   "outputs": [
    {
     "name": "stdout",
     "output_type": "stream",
     "text": [
      "tensor([[ 94.0000,  96.8000,  93.6000,  95.0000],\n",
      "        [ 96.0000,  98.2500,  95.5000,  96.7500],\n",
      "        [ 95.5000, 100.3000,  94.5000,  99.9000],\n",
      "        [101.0000, 102.5000,  98.2000,  98.7500]], device='cuda:0')\n",
      "tensor([[ 90.6514,  97.0587,  85.0059,  91.5811],\n",
      "        [ 92.1384,  98.6356,  86.3942,  93.0553],\n",
      "        [ 95.0561, 101.7299,  89.1186,  95.9482],\n",
      "        [ 95.5167, 102.2184,  89.5486,  96.4048]],\n",
      "       device='cuda:0', grad_fn=<ThAddmmBackward>)\n"
     ]
    },
    {
     "data": {
      "text/plain": [
       "tensor([[57.3566],\n",
       "        [58.2963],\n",
       "        [60.1404],\n",
       "        [60.4315]], device='cuda:0', grad_fn=<ThAddmmBackward>)"
      ]
     },
     "execution_count": 80,
     "metadata": {},
     "output_type": "execute_result"
    }
   ],
   "source": [
    "model_in = Variable(torch.from_numpy(broker_data_np[:4])).to(device).float()\n",
    "print(model_in)\n",
    "print(model(model_in))\n",
    "model.encoder(model_in)"
   ]
  },
  {
   "cell_type": "code",
   "execution_count": null,
   "metadata": {
    "collapsed": true
   },
   "outputs": [],
   "source": []
  }
 ],
 "metadata": {
  "kernelspec": {
   "display_name": "Python 3",
   "language": "python",
   "name": "python3"
  },
  "language_info": {
   "codemirror_mode": {
    "name": "ipython",
    "version": 3
   },
   "file_extension": ".py",
   "mimetype": "text/x-python",
   "name": "python",
   "nbconvert_exporter": "python",
   "pygments_lexer": "ipython3",
   "version": "3.6.0"
  }
 },
 "nbformat": 4,
 "nbformat_minor": 2
}
